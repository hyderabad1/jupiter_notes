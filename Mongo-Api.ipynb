{
 "cells": [
  {
   "cell_type": "code",
   "execution_count": null,
   "metadata": {},
   "outputs": [],
   "source": [
    "## connects db #from piesagiving_web.config import client\n"
   ]
  },
  {
   "cell_type": "code",
   "execution_count": null,
   "metadata": {},
   "outputs": [],
   "source": [
    "from restaurant_api.config import client\n",
    "db = client.restaurant_local"
   ]
  },
  {
   "cell_type": "markdown",
   "metadata": {},
   "source": [
    "# AttributeError: 'function' object has no attribute 'name'"
   ]
  },
  {
   "cell_type": "code",
   "execution_count": null,
   "metadata": {},
   "outputs": [],
   "source": [
    "@mongoagree.route('mongoAgree') #IF BLUEPRINT NAME AND FUNCTION NAME SAME \n",
    "def mongoagree():\n",
    "    return \"Success\""
   ]
  },
  {
   "cell_type": "code",
   "execution_count": null,
   "metadata": {},
   "outputs": [],
   "source": [
    " #TypeError: Object of type ObjectId is not JSON serializable // Werkzeug Debugger\n",
    "    #Sollution"
   ]
  },
  {
   "cell_type": "code",
   "execution_count": null,
   "metadata": {},
   "outputs": [],
   "source": [
    "#from bson import json_util  # import \n",
    "#return json.dumps(data_status, indent=4, default=json_util.default) # return like this\n",
    "#Example :\n",
    "@mongoagree.route('/mongofind')\n",
    "def mongo():\n",
    "    data_status={\"result\":0}   \n",
    "    cursor = list(db.price_levels.find({}))   \n",
    "    data_status[\"result\"]=cursor   \n",
    "    return json.dumps(data_status, indent=4, default=json_util.default)"
   ]
  },
  {
   "cell_type": "markdown",
   "metadata": {},
   "source": [
    "### Aggregation in Python Code "
   ]
  },
  {
   "cell_type": "code",
   "execution_count": null,
   "metadata": {},
   "outputs": [],
   "source": [
    "# \n",
    "@mongoagree.route('/mongofind')\n",
    "def mongo():\n",
    "    data_status={\"result\":0}    \n",
    "    cursor = list(db.persons.aggregate([\n",
    "    {\"$match\":{\"age\":{\"$gt\":39}\n",
    "        ,\"gender\":\"male\",\"eyeColor\":\"blue\",\"isActive\":False\n",
    "                }\n",
    "     }\n",
    "    ]))\n",
    "  \n",
    "    data_status[\"result\"]=cursor\n",
    "    #return data_status #Object of type ObjectId is not JSON serializable /\n",
    "    return json.dumps(data_status, indent=4, default=json_util.default)\n"
   ]
  },
  {
   "cell_type": "code",
   "execution_count": null,
   "metadata": {},
   "outputs": [],
   "source": [
    "## Match and Group"
   ]
  },
  {
   "cell_type": "code",
   "execution_count": null,
   "metadata": {},
   "outputs": [],
   "source": [
    "db.persons.aggregate([\n",
    "    {$match:{age:{$gt:35},gender:\"male\",isActive:false,eyeColor:\"blue\"}},\n",
    "    {$group:{_id:\"$_id\",age:{ $first : \"$age\" },eyeColor:{$first:\"$eyeColor\"}}}\n",
    "    ])\n",
    "\"\"\"\n",
    "Result We Be like\n",
    "{\n",
    "\t\"_id\" : ObjectId(\"5edc9baebca5ba1b08ba4abc\"),\n",
    "\t\"age\" : 37,\n",
    "\t\"eyeColor\" : \"blue\"\n",
    "},\n",
    "\n",
    "\"\"\""
   ]
  },
  {
   "cell_type": "code",
   "execution_count": null,
   "metadata": {},
   "outputs": [],
   "source": [
    "## Example Match and Group"
   ]
  },
  {
   "cell_type": "code",
   "execution_count": null,
   "metadata": {},
   "outputs": [],
   "source": [
    "db.res_menus.aggregate([\n",
    "    {$match:{createdBy:ObjectId(\"5e86cf3e9eb7bc1db005b6a1\"),\"tareWeight\" :11}},\n",
    "    {$group:{_id:\"$uniqueNumber\"}}\n",
    "    ])\n",
    "\"\"\"\n",
    "/* 1 */\n",
    "{\n",
    "\t\"_id\" : \"2020050300000010\"\n",
    "},\n",
    "\n",
    "/* 2 */\n",
    "{\n",
    "\t\"_id\" : \"2020050300000009\"\n",
    "},\n",
    "\"\"\""
   ]
  },
  {
   "cell_type": "code",
   "execution_count": null,
   "metadata": {},
   "outputs": [],
   "source": [
    "##Example2"
   ]
  },
  {
   "cell_type": "code",
   "execution_count": null,
   "metadata": {},
   "outputs": [],
   "source": [
    "@mongoagree.route('/agreegation1')\n",
    "def agreegation1():\n",
    "    data_status={\"result\":0}\n",
    "    data = list(db.res_menus.aggregate([\n",
    "    {\"$match\":{\"createdBy\":ObjectId(\"5e86cf3e9eb7bc1db005b6a1\") }},\n",
    "    {\"$group\":{\"_id\":\"$uniqueNumber\"}}\n",
    "    ]))\n",
    "    data_status[\"result\"]=data\n",
    "    return json.dumps(data_status,indent=4, default=json_util.default)"
   ]
  },
  {
   "cell_type": "code",
   "execution_count": null,
   "metadata": {},
   "outputs": [],
   "source": [
    "#Filtering Null values"
   ]
  },
  {
   "cell_type": "code",
   "execution_count": null,
   "metadata": {},
   "outputs": [],
   "source": [
    "@mongoagree.route('/agreegation1')\n",
    "def agreegation1():\n",
    "    data_status={\"result\":0}\n",
    "    data = list(db.menus.aggregate([\n",
    "    {\"$match\":{\"createdBy\":ObjectId(\"5e86cf3e9eb7bc1db005b52b\"),\"tareWeight\":0 }},\n",
    "    {\"$group\":{\"_id\":\"$uniqueNumber\"}}\n",
    "    ]))\n",
    "    data_status[\"result\"]=data\n",
    "    return json.dumps(data_status,indent=4, default=json_util.default)\n",
    "\"\"\"\n",
    "Filtered but Stored 0 to  Specified Null value Object\n",
    "db.inventory.find( { item : { $exists: false } } ) # its NOt Worked\n",
    "\n",
    "\"\"\""
   ]
  },
  {
   "cell_type": "code",
   "execution_count": null,
   "metadata": {},
   "outputs": [],
   "source": [
    "##"
   ]
  },
  {
   "cell_type": "code",
   "execution_count": null,
   "metadata": {},
   "outputs": [],
   "source": [
    "db.persons.aggregate([\n",
    "       {$group:{_id:\"$_id\",age:{ $last : \"$age\" },eyeColor:{$first:\"$eyeColor\"},index:{$first:\"$index\"}}},\n",
    "       {$match:{age:25,eyeColor:\"blue\"}}\n",
    "       \n",
    "\n",
    "    ])\n",
    "## Swap Group and Match   Both Result is Same Here\n",
    "db.persons.aggregate([\n",
    "       {$match:{age:25,eyeColor:\"blue\"}}\n",
    "        {$group:{_id:\"$_id\",age:{ $last : \"$age\" },eyeColor:{$first:\"$eyeColor\"},index:{$first:\"$index\"}}},\n",
    "\n",
    "       \n",
    "\n",
    "    ])\n",
    "\"\"\"\n",
    "{\n",
    "\t\"_id\" : ObjectId(\"5edc9baebca5ba1b08ba4ad2\"),\n",
    "\t\"age\" : 25,\n",
    "\t\"eyeColor\" : \"blue\",\n",
    "\t\"index\" : 958\n",
    "},\n",
    "\"\"\""
   ]
  },
  {
   "cell_type": "code",
   "execution_count": null,
   "metadata": {},
   "outputs": [],
   "source": [
    "## data "
   ]
  },
  {
   "cell_type": "code",
   "execution_count": null,
   "metadata": {},
   "outputs": [],
   "source": [
    " countData=list(db.piesa_giving_special_cause_donations.aggregate([\n",
    "                    {\"$match\":{\"causeId\":ObjectId(specialCause_id)}},\n",
    "                   {\"$group\": {\"_id\": None,\"totalAmount\": {\"$sum\": \"$amount\" },\n",
    "                    \"donationsByLength\":{\"$sum\": 1 }}}\n",
    "                    ]))\n",
    "                countDict =countData[0]\n",
    "                del countDict[\"_id\"]\n",
    "                #print(countData,\"*\"*20)\n",
    "                data_status[\"donationDetails\"] = countDict"
   ]
  },
  {
   "cell_type": "code",
   "execution_count": null,
   "metadata": {},
   "outputs": [],
   "source": [
    "# its need for storing image in a folder\n",
    "SITE_ROOT = os.path.dirname(os.path.realpath(__file__))  # it will give path of current Directory\n",
    "app.config['SITE_ROOT']=SITE_ROOT\n"
   ]
  },
  {
   "cell_type": "code",
   "execution_count": null,
   "metadata": {},
   "outputs": [],
   "source": [
    "#BASE 64 string Converting into image and storing in a Folder"
   ]
  },
  {
   "cell_type": "code",
   "execution_count": null,
   "metadata": {},
   "outputs": [],
   "source": [
    "import binascii\n",
    "from mongoengine import ValidationError\n",
    "def upload_doc(fileName, purchaseOrderFile,directory =\"upload_files\"):\n",
    "\tdata_status = {\"responseStatus\": 0, \"result\": \"\"}\n",
    "\ttry:\n",
    "\t\tb64 = purchaseOrderFile\n",
    "\t\tbyte = base64.b64decode(b64, validate=True)\n",
    "\n",
    "\t\t# Write the PDF contents to a local file\n",
    "\t\tpurchase_folder =  os.path.join(app.config['SITE_ROOT'],\"media/\"+directory )\n",
    "\t\tif not os.path.exists(purchase_folder):\n",
    "\t\t\tos.makedirs(purchase_folder)\n",
    "            \n",
    "        #PDF CONVERTING\n",
    "\t\tif byte[0:4] == b'%PDF':\n",
    "\t\t\tmfile = fileName + '.pdf'\n",
    "\t\t\tpdf_loc = os.path.join(purchase_folder, mfile)\n",
    "\t\t\tf = open(pdf_loc, 'wb')\n",
    "\t\t\tf.write(byte)\n",
    "\t\t\tf.close()\n",
    "\n",
    "\t\t\tif pdf_loc:\n",
    "\t\t\t\treturn mfile\n",
    "\t\t\telse:\n",
    "\t\t\t\tdata_status[\"responseStatus\"]=0\n",
    "\t\t\t\tdata_status[\"result\"]=\"Something went to wrong!\"\n",
    "\t\t\t\treturn data_status\n",
    "            #BASE 64 IMAGE CONVERTING\n",
    "\t\telif byte[0:4] == b'\\xff\\xd8\\xff\\xe0' :\n",
    "\t\t\timage_data = bytes(b64, encoding=\"ascii\")\n",
    "\t\t\tim = Image.open(BytesIO(base64.b64decode(image_data)))\n",
    "\t\t\trgb_im = im.convert('RGB')\n",
    "\t\t\timageName = fileName + '.png'\n",
    "\t\t\trgb_im.save(os.path.join(purchase_folder, imageName))\n",
    "\n",
    "\t\t\tif rgb_im:\n",
    "\t\t\t\treturn imageName\n",
    "\t\t\telse:\n",
    "\t\t\t\tdata_status[\"responseStatus\"]=0\n",
    "\t\t\t\tdata_status[\"result\"]=\"Something went to wrong!\"\n",
    "\t\t\t\treturn data_status\n",
    "\t\telse:\n",
    "\t\t\tdata_status[\"responseStatus\"]=0\n",
    "\t\t\tdata_status[\"result\"]=\"Something went to wrong!\"\n",
    "\t\t\treturn data_status\n",
    "\texcept binascii.Error as e:\n",
    "\t\tdata_status[\"responseStatus\"]=0\n",
    "\t\tdata_status[\"result\"]=\"Error!\"\n",
    "\t\treturn \"Error!\"\n",
    "\texcept ValidationError as e:\n",
    "\t\tdata_status[\"responseStatus\"]=0\n",
    "\t\tdata_status[\"result\"]=\"Error!\"\n",
    "\t\treturn \"Error!\"\n",
    "\n"
   ]
  },
  {
   "cell_type": "markdown",
   "metadata": {},
   "source": [
    "# Sorting in Mongo"
   ]
  },
  {
   "cell_type": "code",
   "execution_count": null,
   "metadata": {},
   "outputs": [],
   "source": [
    "db.psg_users.find().sort({firstName:-1})  #1-ascending order -1 - discending order\n",
    "#with Aggregation\n",
    "db.psg_users.aggregate([\n",
    "    {$sort:{firstName:-1}}\n",
    "    ])\n",
    "\n",
    "# Multiple Sorts\n",
    "db.psg_users.aggregate([\n",
    "    {$sort:{firstName:1,email:-1}}\n",
    "    ])"
   ]
  },
  {
   "cell_type": "markdown",
   "metadata": {},
   "source": [
    "# Group and Sort"
   ]
  },
  {
   "cell_type": "code",
   "execution_count": null,
   "metadata": {},
   "outputs": [],
   "source": [
    "db.persons.aggregate([\n",
    "    {$group:{_id:\"$favoriteFruit\"}},\n",
    "    {$sort:{_id:1}}\n",
    "    ])\n",
    "\n",
    "# Multiple \n",
    "db.persons.aggregate([\n",
    "    {$group:{_id:{eyeColor:\"$eyeColor\",favoriteFruit:\"$favoriteFruit\"}}},\n",
    "    {$sort:{\"_id.eyecolor\":1,\"_id.favoriteFruit\":-1}}\n",
    "    ])\n",
    "#example 2\n",
    "db.persons.aggregate([\n",
    "    // stage 1\n",
    "    {$match:{eyeColor:{$ne:\"blue\"}}}, //ne :not euql to\n",
    "    {$group:{_id:{eyeColor:\"$eyeColor\",favoriteFruit:\"$favoriteFruit\"}}},\n",
    "    {$sort:{\"_id.eyecolor\":1,\"_id.favoriteFruit\":-1}}\n",
    "    ])"
   ]
  },
  {
   "cell_type": "markdown",
   "metadata": {},
   "source": [
    "# Project Stage -"
   ]
  },
  {
   "cell_type": "code",
   "execution_count": null,
   "metadata": {},
   "outputs": [],
   "source": [
    "# note- project works for each input documents if we have 1000 documents as a input it will get 1000 documents as output \n",
    "\n",
    "db.persons.aggregate([\n",
    "    {$project:{name:1,\"company.location.country\":1}}\n",
    "    // stage 1\n",
    "   \n",
    "    ])\n",
    "'''\n",
    "{\n",
    "\t\"_id\" : ObjectId(\"5edc9baebca5ba1b08ba4714\"),\n",
    "\t\"name\" : \"Aurelia Gonzales\",\n",
    "\t\"company\" : {\n",
    "\t\t\"location\" : {\n",
    "\t\t\t\"country\" : \"USA\"\n",
    "\t\t}\n",
    "\t}\n",
    "}\n",
    "\n",
    "'''\n",
    "# except mongo Id \n",
    "db.persons.aggregate([\n",
    "    {$project:{name:1,\"company.location.country\":1,_id:0}}\n",
    "    // {$count:\"total\"}  to know records counts\n",
    "   \n",
    "    ])\n",
    "'''\n",
    "{\n",
    "\t\"name\" : \"Aurelia Gonzales\",\n",
    "\t\"company\" : {\n",
    "\t\t\"location\" : {\n",
    "\t\t\t\"country\" : \"USA\"\n",
    "\t\t}\n",
    "\t}\n",
    "}\n",
    "'''\n",
    "#except  these 3 all keys\n",
    "db.persons.aggregate([\n",
    "    {$project:{isActive:0,name:0,gender:0}}\n",
    "\n",
    "    ])\n",
    "\n",
    "# we can change fields names also # lets create new document struture \n",
    "db.persons.aggregate([\n",
    "    {$project:\n",
    "        {\n",
    "            _id:0,\n",
    "            name:1,\n",
    "            info:{\n",
    "                eyes:\"$eyeColor\",\n",
    "                fruit:\"$favoriteFruit\",\n",
    "                country:\"$company.location.country\"\n",
    "            }\n",
    "        }\n",
    "        \n",
    "    }\n",
    "\n",
    "    ])\n",
    "'''\n",
    "{\n",
    "\t\"name\" : \"Aurelia Gonzales\",\n",
    "\t\"info\" : {\n",
    "\t\t\"eyes\" : \"green\",\n",
    "\t\t\"fruit\" : \"banana\",\n",
    "\t\t\"country\" : \"USA\"\n",
    "\t}\n",
    "},\n",
    "'''"
   ]
  },
  {
   "cell_type": "code",
   "execution_count": null,
   "metadata": {},
   "outputs": [],
   "source": [
    "# Get  Matched Data in Descending"
   ]
  },
  {
   "cell_type": "code",
   "execution_count": null,
   "metadata": {},
   "outputs": [],
   "source": [
    "db.psg_sign_in_histoty.aggregate([\n",
    "                            {\"$match\":{\"userId\":ObjectId(user_id)}},\n",
    "                            {\"$sort\":{\"_id\":-1}}\n",
    "\n",
    "                            ])"
   ]
  },
  {
   "cell_type": "markdown",
   "metadata": {},
   "source": [
    "# Get Date and Time From the  - (ISODate)  -  DateField  "
   ]
  },
  {
   "cell_type": "code",
   "execution_count": null,
   "metadata": {},
   "outputs": [],
   "source": [
    "db.psg_sign_in_histoty.aggregate(\n",
    "   [\n",
    "       {\"$match\":{\"userId\":ObjectId(\"5ee30b48251376f63f6a18a8\")}},\n",
    "       {$sort:{_id:-1}},\n",
    "     {\n",
    "       $project: {\n",
    "          _id: 0,\n",
    "          date: { $dateToString: { format: \"%Y-%m-%d\", date: \"$dateTime\" } },\n",
    "          time: { $dateToString: { format: \"%H:%M\", date: \"$dateTime\", timezone: \"+05:30\"} },\n",
    "          type:\"$type\",\n",
    "          location:\"$location\",\n",
    "          status:\"$status\"         \n",
    "     }\n",
    "   ]\n",
    ")"
   ]
  },
  {
   "cell_type": "code",
   "execution_count": 22,
   "metadata": {},
   "outputs": [
    {
     "name": "stdout",
     "output_type": "stream",
     "text": [
      "[{'id': 1, 'x': 'one'}, {'id': 2, 'x': 'two'}, {'id': 3, 'x': 'three'}]\n"
     ]
    }
   ],
   "source": [
    "lst1 = [{\"id\": 1, \"x\": \"one\"}, {\"id\": 2, \"x\": \"two\"}]\n",
    "lst2 = [{\"id\": 2, \"x\": \"two\"}, {\"id\": 3, \"x\": \"three\"}]  \n",
    "\n",
    "result = []\n",
    "lst1.extend(lst2)\n",
    "for myDict in lst1:\n",
    "    if myDict not in result:\n",
    "        result.append(myDict)\n",
    "print(result)"
   ]
  },
  {
   "cell_type": "code",
   "execution_count": 32,
   "metadata": {},
   "outputs": [
    {
     "name": "stdout",
     "output_type": "stream",
     "text": [
      "{'id': 1, 'x': 'one'}\n",
      "{'id': 2, 'x': 'two'}\n",
      "{'id': 3, 'x': 'two'}\n",
      "{'id': 4, 'x': 'two'}\n",
      "[{'KeyName': 'id', 'KeyValue': 1}, {'KeyName': 'x', 'KeyValue': 'one'}, {'KeyName': 'id', 'KeyValue': 2}, {'KeyName': 'x', 'KeyValue': 'two'}, {'KeyName': 'id', 'KeyValue': 3}, {'KeyName': 'x', 'KeyValue': 'two'}, {'KeyName': 'id', 'KeyValue': 4}, {'KeyName': 'x', 'KeyValue': 'two'}]\n"
     ]
    }
   ],
   "source": [
    "dictlist=[]\n",
    "lst1 = [{\"id\": 1, \"x\": \"one\"}, {\"id\": 2, \"x\": \"two\"},{\"id\": 3, \"x\": \"two\"},{\"id\": 4, \"x\": \"two\"}]\n",
    "for dict1 in lst1:\n",
    "    print(dict1)\n",
    "    for k,v in dict1.items():\n",
    "        a ={}\n",
    "        a[\"KeyName\"]=k\n",
    "        a[\"KeyValue\"]=v\n",
    "        dictlist.append(a)               \n",
    "        \n",
    "        \n",
    "    "
   ]
  },
  {
   "cell_type": "code",
   "execution_count": null,
   "metadata": {},
   "outputs": [],
   "source": [
    "d1  = [{\"name\":\"A\",\"value\":1},{\"name\":\"B\",\"value\":2},{\"name\":\"C\",\"value\":3},{\"name\":\"C\",\"value\":\"4\"}]\n",
    "d2 = [{\"name\":\"A\",\"value\":1},{\"name\":\"B\",\"value\":2},{\"name\":\"C\",\"value\":3}]\n",
    "listFinal =[]\n",
    "for dc2 in d2:\n",
    "    for dc1 in d1:\n",
    "       if dc1 not in d2:\n",
    "          d2.append(d1)\n",
    "print(d1)\n",
    "        \n"
   ]
  },
  {
   "cell_type": "code",
   "execution_count": 52,
   "metadata": {},
   "outputs": [
    {
     "name": "stdout",
     "output_type": "stream",
     "text": [
      "{'weekDay': 'TodayDate'}\n"
     ]
    }
   ],
   "source": [
    "import datetime\n",
    "\n",
    "dateTime=datetime.datetime.now()\n",
    "TodayDateNo=dateTime.strftime(\"%j\")\n",
    "TodayDate =dateTime.strftime(\"%d/%m/%Y\")\n",
    "final =[]\n",
    "dict1 ={\n",
    "    \"weekDay\":\"TodayDate\"\n",
    "}\n",
    "list1 = []\n",
    "def fun1(n):\n",
    "    for x in range(7):   \n",
    "        aa = int(TodayDateNo) -x\n",
    "        dict1[aa]=\"aaaa\"\n",
    "        \n",
    "        \n",
    "    fun1(n=10)     \n",
    "print(dict1)\n",
    "    \n",
    "\n",
    "    \n",
    "    \n",
    "    \n",
    "    \n",
    "\n",
    "    \n",
    "    \n",
    "    \n"
   ]
  },
  {
   "cell_type": "code",
   "execution_count": 43,
   "metadata": {},
   "outputs": [
    {
     "data": {
      "text/plain": [
       "[4, 5]"
      ]
     },
     "execution_count": 43,
     "metadata": {},
     "output_type": "execute_result"
    }
   ],
   "source": [
    "\n",
    "l2= []\n",
    "Input1 = [{\"index\":\"1\", \"value\":\"2\"}, {\"index\":\"2\", \"value\":\"3\"}, {\"index\":\"3\", \"value\":\"eggs\"},{\"index\":\"4\", \"value\":\"eggs\"}]\n",
    "Input2 = [{\"index\":\"1\", \"value\":\"4\"}, {\"index\":\"2\", \"value\":\"5qq\"}]\n",
    "# for ab in Input1:\n",
    "#     for bc in Input2:\n",
    "#         if ab[\"index\"] == bc[\"index\"]:\n",
    "#             Input1.remove(ab)\n",
    "            \n",
    "\n",
    "\n",
    "db =[1,2,3]#get\n",
    "get =[4,3,5]#db\n",
    "[ d for d in get if d not in db ]"
   ]
  },
  {
   "cell_type": "markdown",
   "metadata": {},
   "source": [
    "# Merge List of Dictionaries By specific Common key"
   ]
  },
  {
   "cell_type": "code",
   "execution_count": null,
   "metadata": {},
   "outputs": [],
   "source": [
    "# Merge List of Dictionaries By specific Common key\n",
    "#Compare Db List and Get list Remove Duplicates\n",
    "def remove_duplicates(get_list,list_from_db,key_to_filter): \n",
    "\tget_ids = []\n",
    "\tfor get_elements in get_list:\n",
    "\t\tget_ids.append(get_elements[key_to_filter])\n",
    "\t\tfor db_elemts in list_from_db:\n",
    "\t\t\tif db_elemts[key_to_filter] in get_ids:\n",
    "\t\t\t\tlist_from_db.remove(db_elemts)\n",
    "\treturn get_list +list_from_db"
   ]
  },
  {
   "cell_type": "code",
   "execution_count": null,
   "metadata": {},
   "outputs": [],
   "source": []
  },
  {
   "cell_type": "code",
   "execution_count": null,
   "metadata": {},
   "outputs": [],
   "source": []
  },
  {
   "cell_type": "code",
   "execution_count": null,
   "metadata": {},
   "outputs": [],
   "source": []
  }
 ],
 "metadata": {
  "kernelspec": {
   "display_name": "Python 3",
   "language": "python",
   "name": "python3"
  },
  "language_info": {
   "codemirror_mode": {
    "name": "ipython",
    "version": 3
   },
   "file_extension": ".py",
   "mimetype": "text/x-python",
   "name": "python",
   "nbconvert_exporter": "python",
   "pygments_lexer": "ipython3",
   "version": "3.7.6"
  }
 },
 "nbformat": 4,
 "nbformat_minor": 4
}
