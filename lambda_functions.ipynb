{
 "cells": [
  {
   "cell_type": "code",
   "execution_count": 2,
   "metadata": {},
   "outputs": [],
   "source": [
    "# syantax :lambda arguments : expression\n",
    "\n",
    "#"
   ]
  },
  {
   "cell_type": "code",
   "execution_count": 4,
   "metadata": {},
   "outputs": [
    {
     "name": "stdout",
     "output_type": "stream",
     "text": [
      "15\n",
      "13\n"
     ]
    }
   ],
   "source": [
    "#1\n",
    "#A lambda function that multiplies argument a with argument b and print the result:\n",
    "x = lambda a : a + 10\n",
    "print(x(5))\n",
    "# 2\n",
    "#A lambda function that sums argument a, b, and c and print the result:\n",
    "x = lambda a, b, c : a + b + c\n",
    "print(x(5, 6, 2))"
   ]
  },
  {
   "cell_type": "code",
   "execution_count": 10,
   "metadata": {},
   "outputs": [
    {
     "name": "stdout",
     "output_type": "stream",
     "text": [
      "[{'menuId': '2', 'price': 20}]\n"
     ]
    }
   ],
   "source": [
    "#Example use with filter()\n",
    "'''\n",
    "The filter() function in Python takes in a function and a list as arguments.\n",
    "\n",
    "The function is called with all the items in the list and a new list is returned which contains items for which the function evaluates to True.\n",
    "\n",
    "Here is an exaple use of filter() function to filter out only even numbers from a list.\n",
    "# Program to filter out only the even items from a list\n",
    "my_list = [1, 5, 4, 6, 8, 11, 3, 12]\n",
    "\n",
    "new_list = list(filter(lambda x: (x%2 == 0) , my_list))\n",
    "\n",
    "print(new_list)\n",
    "Output\n",
    "\n",
    "[4, 6, 8, 12]\n",
    "'''"
   ]
  },
  {
   "cell_type": "code",
   "execution_count": 28,
   "metadata": {},
   "outputs": [
    {
     "name": "stdout",
     "output_type": "stream",
     "text": [
      "25\n"
     ]
    }
   ],
   "source": [
    "#Lambda functions are used along with built-in functions like filter(), map() etc.\n",
    "#Example use with filter()\n",
    "#The filter() function in Python takes in a function and a list as arguments.\n",
    "dd = [\n",
    "    {\n",
    "        \"menuId\":\"1\",\n",
    "        \"price\":20\n",
    "    },\n",
    "     {\n",
    "        \"menuId\":\"2\",\n",
    "        \"price\":25\n",
    "    }\n",
    "]\n",
    "new_list = list(filter(lambda x:x[\"menuId\"]==\"2\",dd))\n",
    "if new_list:\n",
    "    print(new_list[0][\"price\"])\n",
    "else:\n",
    "     print(\"no price\")"
   ]
  },
  {
   "cell_type": "code",
   "execution_count": null,
   "metadata": {},
   "outputs": [],
   "source": [
    "#Example use with map()\n",
    "\"\"\"\n",
    "The map() function in Python takes in a function and a list.\n",
    "\n",
    "The function is called with all the items in the list and a new list is returned which contains items returned by that function for each item.\n",
    "\n",
    "Here is an example use of map() function to double all the items in a list.\n",
    "\n",
    "# Program to double each item in a list using map()\n",
    "\n",
    "my_list = [1, 5, 4, 6, 8, 11, 3, 12]\n",
    "\n",
    "new_list = list(map(lambda x: x * 2 , my_list))\n",
    "\n",
    "print(new_list)\n",
    "Output\n",
    "\n",
    "[2, 10, 8, 12, 16, 22, 6, 24]\n",
    "\"\"\""
   ]
  },
  {
   "cell_type": "code",
   "execution_count": 22,
   "metadata": {},
   "outputs": [
    {
     "name": "stdout",
     "output_type": "stream",
     "text": [
      "[2, 10, 8, 12, 16, 22, 6, 24]\n",
      "[0.5, 2.5, 2.0, 3.0, 4.0, 5.5, 1.5, 6.0]\n"
     ]
    }
   ],
   "source": [
    "# Program to double each item in a list using map()\n",
    "\n",
    "my_list = [1, 5, 4, 6, 8, 11, 3, 12]\n",
    "\n",
    "new_list = list(map(lambda x: x * 2 , my_list))\n",
    "\n",
    "print(new_list)\n",
    "my_list = [1, 5, 4, 6, 8, 11, 3, 12]\n",
    "\n",
    "new_list = list(map(lambda x: x /2 , my_list))\n",
    "print(new_list)\n"
   ]
  },
  {
   "cell_type": "code",
   "execution_count": null,
   "metadata": {},
   "outputs": [],
   "source": [
    "# text practice\n"
   ]
  },
  {
   "cell_type": "code",
   "execution_count": 3,
   "metadata": {},
   "outputs": [
    {
     "name": "stdout",
     "output_type": "stream",
     "text": [
      "[{'jobId': '5f72ccfd80e142d395fee6f6', 'overrideWage': ''}]\n"
     ]
    }
   ],
   "source": [
    "# Exmple program to check job id in jobList\n",
    "job_id = \"5f72ccfd80e142d395fee6f6\"\n",
    "jobList  =  [\n",
    "\t\t{\n",
    "\t\t\t\"jobId\" : \"5f72ccfd80e142d395fee6f6\",\n",
    "\t\t\t\"overrideWage\" : \"\"\n",
    "\t\t},\n",
    "    \t{\n",
    "\t\t\t\"jobId\" : \"5f61e22c8584d9149b9031a4\",\n",
    "\t\t\t\"overrideWage\" : \"\"\n",
    "\t\t},\n",
    "    \t{\n",
    "\t\t\t\"jobId\" : \"5f61e22c8584d9149b9031a5\",\n",
    "\t\t\t\"overrideWage\" : \"\"\n",
    "\t\t}\n",
    "\t]\n",
    "a = list(filter(lambda x:x[\"jobId\"] == job_id,jobList))\n",
    "print(a)\n",
    "\n",
    "##---------\n",
    "driver_jobs = ResJobs.objects(driver =True,restaurantId = restaurantId)\n",
    "for driver in driver_jobs:\n",
    "    emps = Resemployees.objects(restaurantId=restaurantId)  \n",
    "    for emp in emps:\n",
    "        jon_List = emp.jobList\n",
    "        res = list(filter(lambda x:x[\"jobId\"] == driver.id,jobList))\n",
    "        if res : \n",
    "            \"\"\" get emp details \"\"\"\n"
   ]
  },
  {
   "cell_type": "code",
   "execution_count": null,
   "metadata": {},
   "outputs": [],
   "source": [
    "# LAMBDA EXP TUTORIALS \n",
    "#source :https://www.youtube.com/playlist?list=PLH6mU1kedUy84TsNa1654qkHjIeZ_wllA"
   ]
  },
  {
   "cell_type": "code",
   "execution_count": 6,
   "metadata": {},
   "outputs": [
    {
     "name": "stdout",
     "output_type": "stream",
     "text": [
      "5\n"
     ]
    },
    {
     "data": {
      "text/plain": [
       "8"
      ]
     },
     "execution_count": 6,
     "metadata": {},
     "output_type": "execute_result"
    }
   ],
   "source": [
    "multiply = lambda  x,y:x+y\n",
    "print(multiply(2,3))\n",
    "\n",
    "power = lambda  x,y:x**y\n",
    "power(2,3)"
   ]
  },
  {
   "cell_type": "code",
   "execution_count": 7,
   "metadata": {},
   "outputs": [
    {
     "data": {
      "text/plain": [
       "[2, 4, 6, 8]"
      ]
     },
     "execution_count": 7,
     "metadata": {},
     "output_type": "execute_result"
    }
   ],
   "source": [
    "some_num = [1,2,3,4]\n",
    "double = map(lambda x:x+x,some_num)\n",
    "list(double)"
   ]
  },
  {
   "cell_type": "code",
   "execution_count": 12,
   "metadata": {},
   "outputs": [
    {
     "name": "stdout",
     "output_type": "stream",
     "text": [
      "['MY', 'PYTHON']\n",
      "['My', 'Python']\n"
     ]
    }
   ],
   "source": [
    "string = [\"My\",\"Python\"]\n",
    "cap = map(lambda x:str.upper(x),string)\n",
    "print(list(cap))\n",
    "string = [\"my\",\"python\"]\n",
    "cap1 = map(lambda x:x.capitalize(),string)\n",
    "print(list(cap1))"
   ]
  },
  {
   "cell_type": "code",
   "execution_count": 14,
   "metadata": {},
   "outputs": [
    {
     "name": "stdout",
     "output_type": "stream",
     "text": [
      "[30, 32, 33, 35, 37, 39]\n",
      "[39, 37, 35, 33, 32, 30]\n"
     ]
    }
   ],
   "source": [
    "attendance = [35,39,32,37,30,33]\n",
    "print(sorted(attendance))\n",
    "attendance = [35,39,32,37,30,33]\n",
    "print(sorted(attendance,reverse =True))"
   ]
  },
  {
   "cell_type": "code",
   "execution_count": 20,
   "metadata": {},
   "outputs": [
    {
     "name": "stdout",
     "output_type": "stream",
     "text": [
      "[30, 32, 33, 35, 37, 39, 44, 55]\n",
      "[35, 39, 32, 37, 30, 33, 55, 44]\n",
      "[30, 32, 33, 35, 37, 39, 44, 55]\n",
      "[55, 44, 39, 37, 35, 33, 32, 30]\n"
     ]
    }
   ],
   "source": [
    "# difference between sort & and sorted  \n",
    "#sorted : sorted will not  effect to original list \n",
    "attendance = [35,39,32,37,30,33,55,44]\n",
    "print(sorted(attendance))\n",
    "print(attendance)\n",
    "# sort : sort will effect to original list \n",
    "attendance2 = [35,39,32,37,30,33,55,44]\n",
    "attendance2.sort()\n",
    "print(attendance2)\n",
    "attendance2.sort(reverse=True)\n",
    "print(attendance2)"
   ]
  },
  {
   "cell_type": "code",
   "execution_count": 23,
   "metadata": {
    "scrolled": true
   },
   "outputs": [
    {
     "name": "stdout",
     "output_type": "stream",
     "text": [
      "[30, 32, 33, 35, 37, 39, 44, 55]\n"
     ]
    }
   ],
   "source": [
    "# sort with lambda \n",
    "attendance = [35,39,32,37,30,33,55,44]\n",
    "attendance.sort(key = lambda x:x*2)\n",
    "print(attendance)"
   ]
  },
  {
   "cell_type": "code",
   "execution_count": 25,
   "metadata": {},
   "outputs": [
    {
     "data": {
      "text/plain": [
       "[('9C', 4), ('9F', 12), ('9B', 33), ('9D', 44), ('9A', 74)]"
      ]
     },
     "execution_count": 25,
     "metadata": {},
     "output_type": "execute_result"
    }
   ],
   "source": [
    "class_attr = [(\"9A\",74),(\"9B\",33),(\"9C\",4),(\"9D\",44),(\"9F\",12)]\n",
    "print(sorted(class_attr,key=lambda x:x[1]))\n",
    "class_attr2 = [(\"9A\",74),(\"9B\",33),(\"9C\",4),(\"9D\",44),(\"9F\",12)]\n",
    "print(sorted(class_attr2,key=lambda x:x[1]))"
   ]
  },
  {
   "cell_type": "code",
   "execution_count": 37,
   "metadata": {},
   "outputs": [
    {
     "name": "stdout",
     "output_type": "stream",
     "text": [
      "[{'name': 'pooorna4', 'age': 11}, {'name': 'pooorna3', 'age': 16}, {'name': 'pooorna2', 'age': 22}, {'name': 'pooorna5', 'age': 29}, {'name': 'pooorna1', 'age': 34}]\n",
      "-------------------------------\n",
      "[{'name': 'pooorna1', 'age': 34}, {'name': 'pooorna5', 'age': 29}, {'name': 'pooorna2', 'age': 22}, {'name': 'pooorna3', 'age': 16}, {'name': 'pooorna4', 'age': 11}]\n"
     ]
    }
   ],
   "source": [
    "class_attr2 = [{\"name\":\"pooorna1\",\"age\":34},{\"name\":\"pooorna2\",\"age\":22},{\"name\":\"pooorna3\",\"age\":16},{\"name\":\"pooorna4\",\"age\":11},{\"name\":\"pooorna5\",\"age\":29}]\n",
    "print(sorted(class_attr2,key=lambda x:x[\"age\"]))\n",
    "print(\"-------------------------------\")\n",
    "class_attr3 = [{\"name\":\"pooorna1\",\"age\":34},{\"name\":\"pooorna2\",\"age\":22},{\"name\":\"pooorna3\",\"age\":16},{\"name\":\"pooorna4\",\"age\":11},{\"name\":\"pooorna5\",\"age\":29}]\n",
    "print(sorted(class_attr3,key=lambda x:x[\"age\"],reverse =True))\n"
   ]
  },
  {
   "cell_type": "code",
   "execution_count": 41,
   "metadata": {},
   "outputs": [
    {
     "data": {
      "text/plain": [
       "[35, 39, 37, 55, 44]"
      ]
     },
     "execution_count": 41,
     "metadata": {},
     "output_type": "execute_result"
    }
   ],
   "source": [
    "# Filter and Lambda Function s\n",
    "attendance = [35,39,32,37,30,33,55,44,22]\n",
    "avg_attd = filter(lambda x:x>=35,attendance)\n",
    "list(avg_attd)"
   ]
  },
  {
   "cell_type": "code",
   "execution_count": 46,
   "metadata": {},
   "outputs": [
    {
     "data": {
      "text/plain": [
       "['FRANCE', 'GERMANY']"
      ]
     },
     "execution_count": 46,
     "metadata": {},
     "output_type": "execute_result"
    }
   ],
   "source": [
    "countries = [\"India\",\"US\",\"UK\",\"FRANCE\",\"GERMANY\",\"UAE\"]\n",
    "list(filter(lambda x:len(x) > 5,countries))"
   ]
  },
  {
   "cell_type": "code",
   "execution_count": 62,
   "metadata": {},
   "outputs": [
    {
     "name": "stdout",
     "output_type": "stream",
     "text": [
      "150\n"
     ]
    }
   ],
   "source": [
    "#Reduce Function and lambda expression\n",
    "from functools import reduce\n",
    "nums = [10,20,30,40,50]\n",
    "\n",
    "sum = reduce(lambda x,y:x+y,nums)\n",
    "print(sum)\n"
   ]
  },
  {
   "cell_type": "code",
   "execution_count": 71,
   "metadata": {},
   "outputs": [],
   "source": [
    "#Reduce Function and lambda expression\n",
    "from functools import reduce\n",
    "# nums = [10,20,30,40,50]\n",
    "# s =reduce(lambda x,y:max(x,y),nums)\n",
    "# print(s)"
   ]
  },
  {
   "cell_type": "code",
   "execution_count": 73,
   "metadata": {},
   "outputs": [
    {
     "name": "stdout",
     "output_type": "stream",
     "text": [
      "50\n",
      "10\n"
     ]
    }
   ],
   "source": [
    "#Reduce Function and lambda expression\n",
    "from functools import reduce\n",
    "nums = [10,20,30,40,50]\n",
    "# meaning give me x if x >y else give y\n",
    "max_value =reduce(lambda x,y: x if x>y else y,nums)\n",
    "print(max_value)\n",
    "min_value =reduce(lambda x,y: x if x<y else y,nums)\n",
    "print(min_value)"
   ]
  },
  {
   "cell_type": "code",
   "execution_count": 78,
   "metadata": {},
   "outputs": [
    {
     "name": "stdout",
     "output_type": "stream",
     "text": [
      "[82, 73, 80, 73, 62]\n"
     ]
    }
   ],
   "source": [
    "# Program to add marks if percentage is more than 35 and sub marks if below 35 attendance % ,[\"studentNo\",\"percentage\",\"marks\"]\n",
    "scores = [[1,35,80],[2,32,75],[3,30,82],[4,33,75],[15,37,60]]\n",
    "above_avg = 35 \n",
    "new_marks = map(lambda x : x[2] + 2 if x[1] >=  above_avg else x[2] - 2,scores)\n",
    "print(list(new_marks))\n"
   ]
  },
  {
   "cell_type": "code",
   "execution_count": 81,
   "metadata": {},
   "outputs": [
    {
     "name": "stdout",
     "output_type": "stream",
     "text": [
      "['India', 'UK', 'France', 'US', 'Chaina']\n",
      "[150.5, 155.5, 180.5, 150.5, 150.5]\n"
     ]
    }
   ],
   "source": [
    "# Countries and Sales\n",
    "sales  = [ {\"country\":\"India\",\"sale\" :150.5},{\"country\":\"UK\",\"sale\" :155.5},{\"country\":\"France\",\"sale\" :180.5},{\"country\":\"US\",\"sale\" :200.5},{\"country\":\"Chaina\",\"sale\" :177.5}]\n",
    "country_names  =  map(lambda x :x[\"country\"],sales )\n",
    "print(list(country_names))\n",
    "country_saless  =  map(lambda x :x[\"sale\"],sales )\n",
    "print(list(country_saless))"
   ]
  },
  {
   "cell_type": "code",
   "execution_count": null,
   "metadata": {},
   "outputs": [],
   "source": [
    "# Using Filter on dicts along with lambdab"
   ]
  },
  {
   "cell_type": "code",
   "execution_count": 83,
   "metadata": {},
   "outputs": [
    {
     "name": "stdout",
     "output_type": "stream",
     "text": [
      "[{'country': 'India', 'sale': 150.5}]\n"
     ]
    }
   ],
   "source": [
    "ind =  filter(lambda x:x[\"country\"] ==  \"India\",sales)\n",
    "print(list(ind))"
   ]
  },
  {
   "cell_type": "code",
   "execution_count": 91,
   "metadata": {},
   "outputs": [
    {
     "name": "stdout",
     "output_type": "stream",
     "text": [
      "[{'country': 'India', 'sale': 150.5}, {'country': 'UK', 'sale': 155.5}, {'country': 'France', 'sale': 180.5}, {'country': 'US', 'sale': 150.5}, {'country': 'Chaina', 'sale': 150.5}]\n"
     ]
    }
   ],
   "source": [
    "high_sales = filter(lambda x:x[\"sale\"] >= 140,sales)\n",
    "print(list(high_sales))"
   ]
  },
  {
   "cell_type": "code",
   "execution_count": null,
   "metadata": {},
   "outputs": [],
   "source": [
    "# Proccessing Multiple List to lambda expressions "
   ]
  },
  {
   "cell_type": "code",
   "execution_count": 92,
   "metadata": {},
   "outputs": [
    {
     "name": "stdout",
     "output_type": "stream",
     "text": [
      "[20, 40, 60, 80, 100]\n"
     ]
    }
   ],
   "source": [
    "list1 = [10,20,30,40,50]\n",
    "list2 = [10,20,30,40,50]\n",
    "list_additions = map(lambda x,y:x+y,list1,list2)\n",
    "print(list(list_additions))"
   ]
  },
  {
   "cell_type": "code",
   "execution_count": null,
   "metadata": {},
   "outputs": [],
   "source": []
  }
 ],
 "metadata": {
  "kernelspec": {
   "display_name": "Python 3",
   "language": "python",
   "name": "python3"
  },
  "language_info": {
   "codemirror_mode": {
    "name": "ipython",
    "version": 3
   },
   "file_extension": ".py",
   "mimetype": "text/x-python",
   "name": "python",
   "nbconvert_exporter": "python",
   "pygments_lexer": "ipython3",
   "version": "3.7.6"
  }
 },
 "nbformat": 4,
 "nbformat_minor": 4
}
