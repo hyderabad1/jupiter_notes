{
 "cells": [
  {
   "cell_type": "markdown",
   "metadata": {},
   "source": [
    "# Flask Application Setup"
   ]
  },
  {
   "cell_type": "code",
   "execution_count": null,
   "metadata": {},
   "outputs": [],
   "source": [
    "### Set Environment  \n",
    "virtualenv venv \n",
    "### activate Env \n",
    "venv/Scripts/activate \n",
    "#\n",
    "\n",
    "\n"
   ]
  },
  {
   "cell_type": "code",
   "execution_count": null,
   "metadata": {},
   "outputs": [],
   "source": [
    "#install Flask\n",
    "pip install Flask \n",
    "# create flask app  in file \n",
    "app =Flask(__name__)\n",
    "\n",
    "# install cors for cross origin \n",
    "pip install Flask-Cors==1.10.3\n",
    "# Note: this resources parameter can also be set in your application’s config.\n",
    "cors = CORS(app, resources={r\"/api/*\": {\"origins\": \"*\"}})\n",
    "\n",
    "\n",
    "#run app in debug mode\n",
    "app.run(host=\"127.0.0.1\",debug=True)\n"
   ]
  },
  {
   "cell_type": "code",
   "execution_count": null,
   "metadata": {},
   "outputs": [],
   "source": [
    "#setup static files and imags\n",
    "   <head>\n",
    "        <!-- Required meta tags -->\n",
    "        <meta charset=\"utf-8\">\n",
    "        <meta name=\"viewport\" content=\"width=device-width, initial-scale=1, shrink-to-fit=no\">\n",
    "        <link rel=\"icon\" href=\"#\" type=\"image/png\">\n",
    "        <title>Seelife Charity</title>\n",
    "        <!-- Bootstrap CSS -->\n",
    "        <link rel=\"stylesheet\" href=\"{{url_for('static',filename='css/bootstrap.css')}}\">\n",
    "\t\t<!--  <link rel=\"stylesheet\" href=\"../static/css/bootstrap.css\">-->\n",
    "       <!-- <link rel=\"stylesheet\" href=\"../static/css/vendors/linericon/style.css\">-->\n",
    "        <link rel=\"stylesheet\" href=\"{{url_for('static',filename='css/font-awesome.min.css')}}\">\n",
    "       <link rel=\"stylesheet\" href=\"{{url_for('static',filename='vendors/lightbox/simpleLightbox.css')}}\">\n",
    "        <link rel=\"stylesheet\" href=\"{{url_for('static',filename='vendors/css/nice-select.css')}}\">\n",
    "        <!-- main css -->\n",
    "        <link rel=\"stylesheet\" href=\"{{url_for('static',filename='css/style.css')}}\">\n",
    "        <link rel=\"stylesheet\" href=\"{{url_for('static',filename='css/responsive.css')}}\">\n",
    "    </head>\n",
    "    <img src=\"{{url_for('static',filename='img/logo.png')}}\" alt=\"\">"
   ]
  },
  {
   "cell_type": "code",
   "execution_count": null,
   "metadata": {},
   "outputs": [],
   "source": [
    "#search element\n",
    "@admin_donations.route('/donations_list', methods=['GET','POST'])\n",
    "def donations_list():\n",
    "    result =[]\n",
    "    try:\n",
    "        if not session.get(\"adminId\"):\n",
    "            return redirect(url_for('admin.login'))\n",
    "        data_status = {\"responseStatus\": 0, \"result\": \"\"}\n",
    "        if request.method == \"GET\":\n",
    "            queryset = PiesaGivingDonations.objects(isReccurring=False).all()\n",
    "        elif request.method == \"POST\":\n",
    "            searchElement = request.form.get(\"searchElement\",\"\")\n",
    "            if searchElement:\n",
    "                queryset = []\n",
    "                queryset_firstName = PiesaGivingDonations.objects.filter(isReccurring=False, userId__in=PsgUsers.objects(firstName__icontains=str(searchElement))).all()\n",
    "                queryset_lastName = PiesaGivingDonations.objects.filter(isReccurring=False, userId__in=PsgUsers.objects(lastName__icontains=str(searchElement))).all()\n",
    "                queryset_org = PiesaGivingDonations.objects.filter(isReccurring=False, orgId__in=PiesaGivingOrganisations.objects(organizationType__icontains=str(searchElement))).all()\n",
    "                queryset_project = PiesaGivingDonations.objects.filter(isReccurring=False, projectId__in=PiesaGivingProjects.objects(name__icontains=str(searchElement))).all()\n",
    "                queryset.extend(queryset_firstName)\n",
    "                queryset.extend(queryset_lastName)\n",
    "                queryset.extend(queryset_org)\n",
    "                queryset.extend(queryset_project)\n",
    "            else:\n",
    "                queryset = PiesaGivingDonations.objects(isReccurring=False).all()\n",
    "        for each_donation in queryset:\n",
    "            donation_info = {\n",
    "            \"id\": str(each_donation.id),\n",
    "            \"userId\": str(each_donation.userId.id),\n",
    "            \"projectId\":str(each_donation.projectId.id),\n",
    "            \"projectName\":str(each_donation.projectId.name),\n",
    "            \"orgId\": str(each_donation.orgId.id),\n",
    "            \"donorFirstName\": str(each_donation.userId.firstName),\n",
    "            \"donorLastName\": str(each_donation.userId.lastName),\n",
    "            \"orgType\": str(each_donation.orgId.organizationType),\n",
    "            \"amount\": each_donation.amount,\n",
    "            \"paymentType\": each_donation.paymentType,\n",
    "            \"transactionId\": each_donation.transactionId,\n",
    "            \"isReccurring\": each_donation.isReccurring,\n",
    "            \"isHasEnd\": each_donation.isHasEnd,\n",
    "            \"createdOn\": each_donation.createdOn.strftime('%m-%d-%Y'),\n",
    "            \"status\": 1\n",
    "            }\n",
    "            if donation_info not in result:\n",
    "                result.append(donation_info)\n",
    "        data_status[\"responseStatus\"] = 1\n",
    "        data_status[\"result\"] = \"Donations list fetched successfully!\"\n",
    "        data_status[\"data\"] = queryset\n",
    "    except Exception as err:\n",
    "        app.logger.error(traceback.format_exc())\n",
    "        pass\n",
    "    return render_template('/super_admin/donations_list.html', result = result)"
   ]
  },
  {
   "cell_type": "code",
   "execution_count": null,
   "metadata": {},
   "outputs": [],
   "source": [
    "#.\\myenv\\Scripts\\activate\n"
   ]
  }
 ],
 "metadata": {
  "kernelspec": {
   "display_name": "Python 3",
   "language": "python",
   "name": "python3"
  },
  "language_info": {
   "codemirror_mode": {
    "name": "ipython",
    "version": 3
   },
   "file_extension": ".py",
   "mimetype": "text/x-python",
   "name": "python",
   "nbconvert_exporter": "python",
   "pygments_lexer": "ipython3",
   "version": "3.7.6"
  }
 },
 "nbformat": 4,
 "nbformat_minor": 4
}
