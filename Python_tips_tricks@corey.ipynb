{
 "cells": [
  {
   "cell_type": "code",
   "execution_count": 7,
   "metadata": {},
   "outputs": [
    {
     "name": "stdout",
     "output_type": "stream",
     "text": [
      "1\n"
     ]
    }
   ],
   "source": [
    "## 1 source :\"https://www.youtube.com/watch?v=C-gEQdGVXbk\"\n",
    "condition  =1\n",
    "\n",
    "# if condition:\n",
    "#     x =1\n",
    "# else:\n",
    "#     x =0\n",
    "# print(x)\n",
    "x  = 1 if condition else 0\n",
    "print(x)"
   ]
  },
  {
   "cell_type": "code",
   "execution_count": 8,
   "metadata": {},
   "outputs": [
    {
     "name": "stdout",
     "output_type": "stream",
     "text": [
      "10100000000\n",
      "10,100,000,000\n"
     ]
    }
   ],
   "source": [
    "#_will not effect in int \n",
    "num1 = 10_000_000_000\n",
    "num2 = 100_000_000\n",
    "total = num1 + num2\n",
    "print(total)\n",
    "print(f\"{total:,}\")"
   ]
  },
  {
   "cell_type": "code",
   "execution_count": 15,
   "metadata": {},
   "outputs": [
    {
     "name": "stdout",
     "output_type": "stream",
     "text": [
      "1 poorna\n",
      "2 chand\n",
      "3 hello\n",
      "4 how\n",
      "5 yoy\n"
     ]
    }
   ],
   "source": [
    "#Enumerate\n",
    "\n",
    "names = [\"poorna\",\"chand\",\"hello\",\"how\" ,\"yoy\"]\n",
    "for index ,name in enumerate(names,start=1):\n",
    "    print(index,name)"
   ]
  },
  {
   "cell_type": "code",
   "execution_count": 17,
   "metadata": {},
   "outputs": [
    {
     "name": "stdout",
     "output_type": "stream",
     "text": [
      "Poorna is an Software\n",
      "Chand is an Painter\n",
      "Kumar is an Driver\n",
      "Ravi is an Cook\n",
      "Kishore is an Manager\n"
     ]
    }
   ],
   "source": [
    "#Enumerate\n",
    "names = [\"Poorna\",\"Chand\",\"Kumar\",\"Ravi\" ,\"Kishore\"]\n",
    "jobs = [\"Software\",\"Painter\",\"Driver\",\"Cook\",\"Manager\"]\n",
    "\n",
    "for index,name in enumerate(names):\n",
    "    job =jobs[index]\n",
    "    print(f\"{name} is an {job}\")"
   ]
  },
  {
   "cell_type": "code",
   "execution_count": 24,
   "metadata": {},
   "outputs": [
    {
     "name": "stdout",
     "output_type": "stream",
     "text": [
      "Poorna is an Software\n",
      "Chand is an Painter\n",
      "Kumar is an Driver\n",
      "Ravi is an Cook\n",
      "Kishore is an Manager\n",
      "1 - Poorna is an Software\n",
      "2 - Chand is an Painter\n",
      "3 - Kumar is an Driver\n",
      "4 - Ravi is an Cook\n",
      "5 - Kishore is an Manager\n"
     ]
    }
   ],
   "source": [
    "#Unpack Using zip on two lists\n",
    "names = [\"Poorna\",\"Chand\",\"Kumar\",\"Ravi\" ,\"Kishore\"]\n",
    "jobs = [\"Software\",\"Painter\",\"Driver\",\"Cook\",\"Manager\"]\n",
    "for name,job in zip(names,jobs ):\n",
    "    print(f\"{name} is an {job}\")\n",
    "#--------\n",
    "#Unpack Using zip on three lists\n",
    "names = [\"Poorna\",\"Chand\",\"Kumar\",\"Ravi\" ,\"Kishore\"]\n",
    "jobs = [\"Software\",\"Painter\",\"Driver\",\"Cook\",\"Manager\"]\n",
    "nos = [\"1\",\"2\",\"3\",\"4\",\"5\"]\n",
    "for name,job,no in zip(names,jobs,nos ):\n",
    "    print(f\"{no} - {name} is an {job}\")\n",
    "    \n"
   ]
  },
  {
   "cell_type": "code",
   "execution_count": 25,
   "metadata": {},
   "outputs": [
    {
     "name": "stdout",
     "output_type": "stream",
     "text": [
      "('Poorna', 'Software', '1')\n",
      "('Chand', 'Painter', '2')\n",
      "('Kumar', 'Driver', '3')\n",
      "('Ravi', 'Cook', '4')\n",
      "('Kishore', 'Manager', '5')\n"
     ]
    }
   ],
   "source": [
    "# retrning value\n",
    "names = [\"Poorna\",\"Chand\",\"Kumar\",\"Ravi\" ,\"Kishore\"]\n",
    "jobs = [\"Software\",\"Painter\",\"Driver\",\"Cook\",\"Manager\"]\n",
    "nos = [\"1\",\"2\",\"3\",\"4\",\"5\"]\n",
    "for value in zip(names,jobs,nos ):\n",
    "    print(value)\n",
    "    "
   ]
  },
  {
   "cell_type": "code",
   "execution_count": 30,
   "metadata": {},
   "outputs": [
    {
     "name": "stdout",
     "output_type": "stream",
     "text": [
      "1\n",
      "2\n",
      "1\n",
      "2\n",
      "[3, 4, 5]\n",
      "2nd---------\n",
      "1\n",
      "2\n",
      "[3, 4, 5]\n",
      "3nd---------\n",
      "1\n",
      "2\n",
      "[3, 4]\n",
      "5\n"
     ]
    }
   ],
   "source": [
    "# unpacking \n",
    "a,b = (1,2)\n",
    "print(a)\n",
    "print(b)\n",
    "a,b,*c= (1,2,3,4,5)\n",
    "print(a)\n",
    "print(b)\n",
    "print(c)\n",
    "print(\"2nd---------\")\n",
    "a,b,*_= (1,2,3,4,5)\n",
    "print(a)\n",
    "print(b)\n",
    "print(c)\n",
    "print(\"3nd---------\")\n",
    "a,b,*c,d= (1,2,3,4,5)\n",
    "print(a)\n",
    "print(b)\n",
    "print(c)\n",
    "print(d)\n"
   ]
  },
  {
   "cell_type": "code",
   "execution_count": null,
   "metadata": {},
   "outputs": [],
   "source": []
  },
  {
   "cell_type": "code",
   "execution_count": null,
   "metadata": {},
   "outputs": [],
   "source": []
  },
  {
   "cell_type": "code",
   "execution_count": null,
   "metadata": {},
   "outputs": [],
   "source": []
  },
  {
   "cell_type": "code",
   "execution_count": null,
   "metadata": {},
   "outputs": [],
   "source": []
  },
  {
   "cell_type": "code",
   "execution_count": null,
   "metadata": {},
   "outputs": [],
   "source": []
  },
  {
   "cell_type": "code",
   "execution_count": null,
   "metadata": {},
   "outputs": [],
   "source": []
  },
  {
   "cell_type": "code",
   "execution_count": null,
   "metadata": {},
   "outputs": [],
   "source": []
  },
  {
   "cell_type": "code",
   "execution_count": null,
   "metadata": {},
   "outputs": [],
   "source": []
  },
  {
   "cell_type": "code",
   "execution_count": null,
   "metadata": {},
   "outputs": [],
   "source": []
  },
  {
   "cell_type": "code",
   "execution_count": null,
   "metadata": {},
   "outputs": [],
   "source": []
  },
  {
   "cell_type": "code",
   "execution_count": null,
   "metadata": {},
   "outputs": [],
   "source": []
  },
  {
   "cell_type": "code",
   "execution_count": null,
   "metadata": {},
   "outputs": [],
   "source": []
  },
  {
   "cell_type": "code",
   "execution_count": null,
   "metadata": {},
   "outputs": [],
   "source": []
  },
  {
   "cell_type": "code",
   "execution_count": null,
   "metadata": {},
   "outputs": [],
   "source": []
  },
  {
   "cell_type": "code",
   "execution_count": null,
   "metadata": {},
   "outputs": [],
   "source": []
  },
  {
   "cell_type": "code",
   "execution_count": null,
   "metadata": {},
   "outputs": [],
   "source": []
  },
  {
   "cell_type": "code",
   "execution_count": null,
   "metadata": {},
   "outputs": [],
   "source": []
  },
  {
   "cell_type": "code",
   "execution_count": null,
   "metadata": {},
   "outputs": [],
   "source": []
  },
  {
   "cell_type": "code",
   "execution_count": null,
   "metadata": {},
   "outputs": [],
   "source": []
  }
 ],
 "metadata": {
  "kernelspec": {
   "display_name": "Python 3",
   "language": "python",
   "name": "python3"
  },
  "language_info": {
   "codemirror_mode": {
    "name": "ipython",
    "version": 3
   },
   "file_extension": ".py",
   "mimetype": "text/x-python",
   "name": "python",
   "nbconvert_exporter": "python",
   "pygments_lexer": "ipython3",
   "version": "3.7.6"
  }
 },
 "nbformat": 4,
 "nbformat_minor": 4
}
